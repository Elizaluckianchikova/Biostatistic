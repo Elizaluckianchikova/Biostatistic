{
  "cells": [
    {
      "cell_type": "markdown",
      "metadata": {
        "id": "view-in-github",
        "colab_type": "text"
      },
      "source": [
        "<a href=\"https://colab.research.google.com/github/Elizaluckianchikova/Biostatistics/blob/main/%D0%9A%D0%BE%D0%BF%D0%B8%D1%8F_%D0%B1%D0%BB%D0%BE%D0%BA%D0%BD%D0%BE%D1%82%D0%B0_%22HW_4_DB_Luckyanchikova_ipynb%22.ipynb\" target=\"_parent\"><img src=\"https://colab.research.google.com/assets/colab-badge.svg\" alt=\"Open In Colab\"/></a>"
      ]
    },
    {
      "cell_type": "markdown",
      "id": "2d899fca-fec2-4802-a275-f824219711ff",
      "metadata": {
        "id": "2d899fca-fec2-4802-a275-f824219711ff"
      },
      "source": [
        "# Домашние задание 4"
      ]
    },
    {
      "cell_type": "markdown",
      "id": "11d4ccce-3672-4ad2-be0c-229fea831368",
      "metadata": {
        "id": "11d4ccce-3672-4ad2-be0c-229fea831368"
      },
      "source": [
        "Необходимо написать `.py` скрипт, который будет обращаться к любой вашей базе\n",
        "данных и выполнять:\n",
        "\n",
        "- a. Читать таблицу и выводить в консоль всю прочитанную информацию\n",
        "- b. Читать таблицу с условием `WHERE` и выводить в консоль только один атрибут таблицы\n",
        "- c. Вставить запись в любую таблицу и вывести в консоль идентификатор новой записи\n",
        "- d. Удалить вставленную запись из пункта с"
      ]
    },
    {
      "cell_type": "code",
      "execution_count": null,
      "id": "810972e0-d118-43c8-82ca-05db122c883d",
      "metadata": {
        "colab": {
          "base_uri": "https://localhost:8080/"
        },
        "id": "810972e0-d118-43c8-82ca-05db122c883d",
        "outputId": "9faefa01-6135-49c0-e9ad-54184852d5da"
      },
      "outputs": [
        {
          "output_type": "stream",
          "name": "stdout",
          "text": [
            "Collecting psycopg2-binary\n",
            "  Downloading psycopg2_binary-2.9.9-cp310-cp310-manylinux_2_17_x86_64.manylinux2014_x86_64.whl (3.0 MB)\n",
            "\u001b[2K     \u001b[90m━━━━━━━━━━━━━━━━━━━━━━━━━━━━━━━━━━━━━━━━\u001b[0m \u001b[32m3.0/3.0 MB\u001b[0m \u001b[31m27.3 MB/s\u001b[0m eta \u001b[36m0:00:00\u001b[0m\n",
            "\u001b[?25hInstalling collected packages: psycopg2-binary\n",
            "Successfully installed psycopg2-binary-2.9.9\n"
          ]
        }
      ],
      "source": [
        "!pip install psycopg2-binary"
      ]
    },
    {
      "cell_type": "code",
      "execution_count": null,
      "id": "ef374eba-c632-4a9a-b776-8c039ef9406b",
      "metadata": {
        "id": "ef374eba-c632-4a9a-b776-8c039ef9406b"
      },
      "outputs": [],
      "source": [
        "import psycopg2\n",
        "import pandas as pd"
      ]
    },
    {
      "cell_type": "markdown",
      "id": "8f83bfdf-72ba-4de3-92c3-4e6acdf8a0aa",
      "metadata": {
        "id": "8f83bfdf-72ba-4de3-92c3-4e6acdf8a0aa"
      },
      "source": [
        "Загружаем БД library"
      ]
    },
    {
      "cell_type": "code",
      "execution_count": null,
      "id": "1f4736a8-0bdc-425f-9944-4e939986cd3d",
      "metadata": {
        "id": "1f4736a8-0bdc-425f-9944-4e939986cd3d"
      },
      "outputs": [],
      "source": [
        "conn = psycopg2.connect(\n",
        "    host=\"localhost\",\n",
        "    database=\"library\",\n",
        "    user=\"postgres\",\n",
        "    password=\"4321\"\n",
        ")"
      ]
    },
    {
      "cell_type": "code",
      "execution_count": null,
      "id": "33ae4bcf-6489-4792-b5e9-04a18f5c6150",
      "metadata": {
        "id": "33ae4bcf-6489-4792-b5e9-04a18f5c6150"
      },
      "outputs": [],
      "source": [
        "def sql_command(query, database):\n",
        "    cur = database.cursor()\n",
        "    cur.execute(query)\n",
        "    try:\n",
        "        rows = cur.fetchall()\n",
        "        colnames = [desc[0] for desc in cur.description]\n",
        "        cur.close()\n",
        "        return pd.DataFrame(rows,columns=colnames)\n",
        "    except psycopg2.ProgrammingError:\n",
        "        cur.close()\n",
        "        return 'query done'"
      ]
    },
    {
      "cell_type": "code",
      "execution_count": null,
      "id": "95596cbc-ebee-4b4e-af98-695eadb46e71",
      "metadata": {
        "id": "95596cbc-ebee-4b4e-af98-695eadb46e71",
        "outputId": "5b257864-d557-4a55-8e1e-f522cfd01bdb"
      },
      "outputs": [
        {
          "data": {
            "text/html": [
              "<div>\n",
              "<style scoped>\n",
              "    .dataframe tbody tr th:only-of-type {\n",
              "        vertical-align: middle;\n",
              "    }\n",
              "\n",
              "    .dataframe tbody tr th {\n",
              "        vertical-align: top;\n",
              "    }\n",
              "\n",
              "    .dataframe thead th {\n",
              "        text-align: right;\n",
              "    }\n",
              "</style>\n",
              "<table border=\"1\" class=\"dataframe\">\n",
              "  <thead>\n",
              "    <tr style=\"text-align: right;\">\n",
              "      <th></th>\n",
              "      <th>id_reader</th>\n",
              "      <th>first_name</th>\n",
              "      <th>last_name</th>\n",
              "      <th>reader_num</th>\n",
              "    </tr>\n",
              "  </thead>\n",
              "  <tbody>\n",
              "    <tr>\n",
              "      <th>0</th>\n",
              "      <td>1</td>\n",
              "      <td>Clyde</td>\n",
              "      <td>Adams</td>\n",
              "      <td>23514</td>\n",
              "    </tr>\n",
              "    <tr>\n",
              "      <th>1</th>\n",
              "      <td>2</td>\n",
              "      <td>Helen</td>\n",
              "      <td>Adams</td>\n",
              "      <td>23657</td>\n",
              "    </tr>\n",
              "    <tr>\n",
              "      <th>2</th>\n",
              "      <td>3</td>\n",
              "      <td>Dianne</td>\n",
              "      <td>Adkins</td>\n",
              "      <td>23637</td>\n",
              "    </tr>\n",
              "    <tr>\n",
              "      <th>3</th>\n",
              "      <td>4</td>\n",
              "      <td>Theresa</td>\n",
              "      <td>Adkins</td>\n",
              "      <td>23544</td>\n",
              "    </tr>\n",
              "    <tr>\n",
              "      <th>4</th>\n",
              "      <td>5</td>\n",
              "      <td>Silvia</td>\n",
              "      <td>Armstrong</td>\n",
              "      <td>23636</td>\n",
              "    </tr>\n",
              "    <tr>\n",
              "      <th>...</th>\n",
              "      <td>...</td>\n",
              "      <td>...</td>\n",
              "      <td>...</td>\n",
              "      <td>...</td>\n",
              "    </tr>\n",
              "    <tr>\n",
              "      <th>236</th>\n",
              "      <td>237</td>\n",
              "      <td>Connie</td>\n",
              "      <td>Wilson</td>\n",
              "      <td>23546</td>\n",
              "    </tr>\n",
              "    <tr>\n",
              "      <th>237</th>\n",
              "      <td>238</td>\n",
              "      <td>Iris</td>\n",
              "      <td>Wise</td>\n",
              "      <td>23459</td>\n",
              "    </tr>\n",
              "    <tr>\n",
              "      <th>238</th>\n",
              "      <td>239</td>\n",
              "      <td>Bridget</td>\n",
              "      <td>Wolfe</td>\n",
              "      <td>23550</td>\n",
              "    </tr>\n",
              "    <tr>\n",
              "      <th>239</th>\n",
              "      <td>240</td>\n",
              "      <td>Tyrone</td>\n",
              "      <td>Woods</td>\n",
              "      <td>23524</td>\n",
              "    </tr>\n",
              "    <tr>\n",
              "      <th>240</th>\n",
              "      <td>241</td>\n",
              "      <td>Abraham</td>\n",
              "      <td>Young</td>\n",
              "      <td>23492</td>\n",
              "    </tr>\n",
              "  </tbody>\n",
              "</table>\n",
              "<p>241 rows × 4 columns</p>\n",
              "</div>"
            ],
            "text/plain": [
              "     id_reader first_name  last_name reader_num\n",
              "0            1      Clyde      Adams      23514\n",
              "1            2      Helen      Adams      23657\n",
              "2            3     Dianne     Adkins      23637\n",
              "3            4    Theresa     Adkins      23544\n",
              "4            5     Silvia  Armstrong      23636\n",
              "..         ...        ...        ...        ...\n",
              "236        237     Connie     Wilson      23546\n",
              "237        238       Iris       Wise      23459\n",
              "238        239    Bridget      Wolfe      23550\n",
              "239        240     Tyrone      Woods      23524\n",
              "240        241    Abraham      Young      23492\n",
              "\n",
              "[241 rows x 4 columns]"
            ]
          },
          "execution_count": 20,
          "metadata": {},
          "output_type": "execute_result"
        }
      ],
      "source": [
        "sql_command(\"SELECT * FROM reader\", conn)"
      ]
    },
    {
      "cell_type": "code",
      "execution_count": null,
      "id": "5b25734f-6ae9-48a5-9723-e5d3ec9b4a4c",
      "metadata": {
        "id": "5b25734f-6ae9-48a5-9723-e5d3ec9b4a4c",
        "outputId": "09afcf32-fd07-45de-a61a-70f522915096"
      },
      "outputs": [
        {
          "data": {
            "text/html": [
              "<div>\n",
              "<style scoped>\n",
              "    .dataframe tbody tr th:only-of-type {\n",
              "        vertical-align: middle;\n",
              "    }\n",
              "\n",
              "    .dataframe tbody tr th {\n",
              "        vertical-align: top;\n",
              "    }\n",
              "\n",
              "    .dataframe thead th {\n",
              "        text-align: right;\n",
              "    }\n",
              "</style>\n",
              "<table border=\"1\" class=\"dataframe\">\n",
              "  <thead>\n",
              "    <tr style=\"text-align: right;\">\n",
              "      <th></th>\n",
              "      <th>first_name</th>\n",
              "    </tr>\n",
              "  </thead>\n",
              "  <tbody>\n",
              "    <tr>\n",
              "      <th>0</th>\n",
              "      <td>Helen</td>\n",
              "    </tr>\n",
              "    <tr>\n",
              "      <th>1</th>\n",
              "      <td>Helen</td>\n",
              "    </tr>\n",
              "  </tbody>\n",
              "</table>\n",
              "</div>"
            ],
            "text/plain": [
              "  first_name\n",
              "0      Helen\n",
              "1      Helen"
            ]
          },
          "execution_count": 21,
          "metadata": {},
          "output_type": "execute_result"
        }
      ],
      "source": [
        "sql_command(\"SELECT first_name FROM reader WHERE first_name='Helen'\", conn)"
      ]
    },
    {
      "cell_type": "code",
      "execution_count": null,
      "id": "bd0d39b8-7639-444b-bdf2-2561ce3d14fa",
      "metadata": {
        "id": "bd0d39b8-7639-444b-bdf2-2561ce3d14fa",
        "outputId": "ee576de2-679f-421d-9099-1367f33c12a6"
      },
      "outputs": [
        {
          "data": {
            "text/plain": [
              "'query done'"
            ]
          },
          "execution_count": 22,
          "metadata": {},
          "output_type": "execute_result"
        }
      ],
      "source": [
        "sql_command(\"INSERT INTO reader VALUES (666, 'Grisha', 'Vykhodtsev', 23900)\", conn)"
      ]
    },
    {
      "cell_type": "code",
      "execution_count": null,
      "id": "ba133e2a-31b4-46d7-afb3-1b3744cd6d67",
      "metadata": {
        "id": "ba133e2a-31b4-46d7-afb3-1b3744cd6d67",
        "outputId": "e52c8db0-32ef-4908-abb2-16365a18788c"
      },
      "outputs": [
        {
          "data": {
            "text/html": [
              "<div>\n",
              "<style scoped>\n",
              "    .dataframe tbody tr th:only-of-type {\n",
              "        vertical-align: middle;\n",
              "    }\n",
              "\n",
              "    .dataframe tbody tr th {\n",
              "        vertical-align: top;\n",
              "    }\n",
              "\n",
              "    .dataframe thead th {\n",
              "        text-align: right;\n",
              "    }\n",
              "</style>\n",
              "<table border=\"1\" class=\"dataframe\">\n",
              "  <thead>\n",
              "    <tr style=\"text-align: right;\">\n",
              "      <th></th>\n",
              "      <th>id_reader</th>\n",
              "      <th>first_name</th>\n",
              "      <th>last_name</th>\n",
              "      <th>reader_num</th>\n",
              "    </tr>\n",
              "  </thead>\n",
              "  <tbody>\n",
              "    <tr>\n",
              "      <th>0</th>\n",
              "      <td>666</td>\n",
              "      <td>Grisha</td>\n",
              "      <td>Vykhodtsev</td>\n",
              "      <td>23900</td>\n",
              "    </tr>\n",
              "  </tbody>\n",
              "</table>\n",
              "</div>"
            ],
            "text/plain": [
              "   id_reader first_name   last_name reader_num\n",
              "0        666     Grisha  Vykhodtsev      23900"
            ]
          },
          "execution_count": 23,
          "metadata": {},
          "output_type": "execute_result"
        }
      ],
      "source": [
        "sql_command(\"SELECT * FROM reader WHERE id_reader = 666\", conn)"
      ]
    },
    {
      "cell_type": "code",
      "execution_count": null,
      "id": "8c16c44b-b3c3-4d56-ab19-6b15655e7fde",
      "metadata": {
        "id": "8c16c44b-b3c3-4d56-ab19-6b15655e7fde",
        "outputId": "771a291a-9961-4b0e-d52f-3d3c2f4ce197"
      },
      "outputs": [
        {
          "data": {
            "text/plain": [
              "'query done'"
            ]
          },
          "execution_count": 24,
          "metadata": {},
          "output_type": "execute_result"
        }
      ],
      "source": [
        "sql_command(\"DELETE FROM reader WHERE id_reader = 666\", conn)"
      ]
    },
    {
      "cell_type": "code",
      "execution_count": null,
      "id": "721caf5f-1a77-460a-9f03-c9822a2e662b",
      "metadata": {
        "id": "721caf5f-1a77-460a-9f03-c9822a2e662b",
        "outputId": "7301add0-1b9a-4538-e625-1b5876daafab"
      },
      "outputs": [
        {
          "data": {
            "text/html": [
              "<div>\n",
              "<style scoped>\n",
              "    .dataframe tbody tr th:only-of-type {\n",
              "        vertical-align: middle;\n",
              "    }\n",
              "\n",
              "    .dataframe tbody tr th {\n",
              "        vertical-align: top;\n",
              "    }\n",
              "\n",
              "    .dataframe thead th {\n",
              "        text-align: right;\n",
              "    }\n",
              "</style>\n",
              "<table border=\"1\" class=\"dataframe\">\n",
              "  <thead>\n",
              "    <tr style=\"text-align: right;\">\n",
              "      <th></th>\n",
              "      <th>id_reader</th>\n",
              "      <th>first_name</th>\n",
              "      <th>last_name</th>\n",
              "      <th>reader_num</th>\n",
              "    </tr>\n",
              "  </thead>\n",
              "  <tbody>\n",
              "    <tr>\n",
              "      <th>0</th>\n",
              "      <td>1</td>\n",
              "      <td>Clyde</td>\n",
              "      <td>Adams</td>\n",
              "      <td>23514</td>\n",
              "    </tr>\n",
              "    <tr>\n",
              "      <th>1</th>\n",
              "      <td>2</td>\n",
              "      <td>Helen</td>\n",
              "      <td>Adams</td>\n",
              "      <td>23657</td>\n",
              "    </tr>\n",
              "    <tr>\n",
              "      <th>2</th>\n",
              "      <td>3</td>\n",
              "      <td>Dianne</td>\n",
              "      <td>Adkins</td>\n",
              "      <td>23637</td>\n",
              "    </tr>\n",
              "    <tr>\n",
              "      <th>3</th>\n",
              "      <td>4</td>\n",
              "      <td>Theresa</td>\n",
              "      <td>Adkins</td>\n",
              "      <td>23544</td>\n",
              "    </tr>\n",
              "    <tr>\n",
              "      <th>4</th>\n",
              "      <td>5</td>\n",
              "      <td>Silvia</td>\n",
              "      <td>Armstrong</td>\n",
              "      <td>23636</td>\n",
              "    </tr>\n",
              "    <tr>\n",
              "      <th>...</th>\n",
              "      <td>...</td>\n",
              "      <td>...</td>\n",
              "      <td>...</td>\n",
              "      <td>...</td>\n",
              "    </tr>\n",
              "    <tr>\n",
              "      <th>236</th>\n",
              "      <td>237</td>\n",
              "      <td>Connie</td>\n",
              "      <td>Wilson</td>\n",
              "      <td>23546</td>\n",
              "    </tr>\n",
              "    <tr>\n",
              "      <th>237</th>\n",
              "      <td>238</td>\n",
              "      <td>Iris</td>\n",
              "      <td>Wise</td>\n",
              "      <td>23459</td>\n",
              "    </tr>\n",
              "    <tr>\n",
              "      <th>238</th>\n",
              "      <td>239</td>\n",
              "      <td>Bridget</td>\n",
              "      <td>Wolfe</td>\n",
              "      <td>23550</td>\n",
              "    </tr>\n",
              "    <tr>\n",
              "      <th>239</th>\n",
              "      <td>240</td>\n",
              "      <td>Tyrone</td>\n",
              "      <td>Woods</td>\n",
              "      <td>23524</td>\n",
              "    </tr>\n",
              "    <tr>\n",
              "      <th>240</th>\n",
              "      <td>241</td>\n",
              "      <td>Abraham</td>\n",
              "      <td>Young</td>\n",
              "      <td>23492</td>\n",
              "    </tr>\n",
              "  </tbody>\n",
              "</table>\n",
              "<p>241 rows × 4 columns</p>\n",
              "</div>"
            ],
            "text/plain": [
              "     id_reader first_name  last_name reader_num\n",
              "0            1      Clyde      Adams      23514\n",
              "1            2      Helen      Adams      23657\n",
              "2            3     Dianne     Adkins      23637\n",
              "3            4    Theresa     Adkins      23544\n",
              "4            5     Silvia  Armstrong      23636\n",
              "..         ...        ...        ...        ...\n",
              "236        237     Connie     Wilson      23546\n",
              "237        238       Iris       Wise      23459\n",
              "238        239    Bridget      Wolfe      23550\n",
              "239        240     Tyrone      Woods      23524\n",
              "240        241    Abraham      Young      23492\n",
              "\n",
              "[241 rows x 4 columns]"
            ]
          },
          "execution_count": 25,
          "metadata": {},
          "output_type": "execute_result"
        }
      ],
      "source": [
        "sql_command(\"SELECT * FROM reader\", conn)"
      ]
    },
    {
      "cell_type": "code",
      "execution_count": null,
      "id": "a5535c27-775d-4cda-b597-7fea07903555",
      "metadata": {
        "id": "a5535c27-775d-4cda-b597-7fea07903555"
      },
      "outputs": [],
      "source": [
        "class dotfunc:\n",
        "    func_dict = {'plus': lambda x, y: x + y,\n",
        "                'minus': lambda x, y: x - y,\n",
        "                'times': lambda x, y: x * y}\n",
        "    def __init__(self, value, name):\n",
        "        self.value = value\n",
        "        self.func = self.func_dict[name]\n",
        "\n",
        "    def __getattr__(self, attr):\n",
        "        return Number(self.func(self.value, num_dict[attr].value))\n",
        "\n",
        "class Number:\n",
        "    def __init__(self, value):\n",
        "        self.value = value\n",
        "\n",
        "    def __getattr__(self, attr):\n",
        "        return dotfunc(self.value, attr)\n",
        "\n",
        "    def __repr__(self):\n",
        "        return str(self.value)\n",
        "\n",
        "zero = Number(0)\n",
        "one = Number(1)\n",
        "two = Number(2)\n",
        "three = Number(3)\n",
        "four = Number(4)\n",
        "five = Number(5)\n",
        "six = Number(6)\n",
        "seven = Number(7)\n",
        "eight = Number(8)\n",
        "nine = Number(9)\n",
        "\n",
        "num_dict = {'zero': zero,\n",
        "                'one' : one,\n",
        "                'two' : two,\n",
        "                'three' : three,\n",
        "                'four' : four,\n",
        "                'five' : five,\n",
        "                'six' : six,\n",
        "                'seven' : seven,\n",
        "                'eight' : eight,\n",
        "                'nine' : nine}"
      ]
    },
    {
      "cell_type": "code",
      "execution_count": null,
      "id": "beb78640-180e-4183-aadf-ff0fdd2e0a0c",
      "metadata": {
        "id": "beb78640-180e-4183-aadf-ff0fdd2e0a0c",
        "outputId": "2c49f213-876f-44f6-849e-6a1fad837808"
      },
      "outputs": [
        {
          "name": "stdout",
          "output_type": "stream",
          "text": [
            "5\n",
            "2\n",
            "4\n",
            "28\n",
            "729\n"
          ]
        }
      ],
      "source": [
        "print(five)  # 5\n",
        "print(five.minus.three)  # 2\n",
        "print(two.plus.two)  # 4\n",
        "print(five.plus.two.times.four)  # 28\n",
        "print(nine.times.nine.times.nine)  # 729"
      ]
    },
    {
      "cell_type": "code",
      "execution_count": null,
      "id": "f45b4232-c5e5-49cd-9e00-28850b633fa9",
      "metadata": {
        "id": "f45b4232-c5e5-49cd-9e00-28850b633fa9",
        "outputId": "b61dfe8b-6962-4413-c557-8cd6d20f942d"
      },
      "outputs": [
        {
          "name": "stdout",
          "output_type": "stream",
          "text": [
            "Collecting mypy\n",
            "  Downloading mypy-1.6.1-cp39-cp39-macosx_10_9_x86_64.whl (10.7 MB)\n",
            "\u001b[2K     \u001b[90m━━━━━━━━━━━━━━━━━━━━━━━━━━━━━━━━━━━━━━━━\u001b[0m \u001b[32m10.7/10.7 MB\u001b[0m \u001b[31m8.0 MB/s\u001b[0m eta \u001b[36m0:00:00\u001b[0m00:01\u001b[0mm0:01\u001b[0m\n",
            "\u001b[?25hRequirement already satisfied: tomli>=1.1.0 in /Users/grinder/opt/anaconda3/lib/python3.9/site-packages (from mypy) (2.0.1)\n",
            "Collecting mypy-extensions>=1.0.0\n",
            "  Downloading mypy_extensions-1.0.0-py3-none-any.whl (4.7 kB)\n",
            "Requirement already satisfied: typing-extensions>=4.1.0 in /Users/grinder/opt/anaconda3/lib/python3.9/site-packages (from mypy) (4.3.0)\n",
            "Installing collected packages: mypy-extensions, mypy\n",
            "  Attempting uninstall: mypy-extensions\n",
            "    Found existing installation: mypy-extensions 0.4.3\n",
            "    Uninstalling mypy-extensions-0.4.3:\n",
            "      Successfully uninstalled mypy-extensions-0.4.3\n",
            "Successfully installed mypy-1.6.1 mypy-extensions-1.0.0\n",
            "Note: you may need to restart the kernel to use updated packages.\n"
          ]
        }
      ],
      "source": [
        "pip install mypy"
      ]
    },
    {
      "cell_type": "code",
      "execution_count": null,
      "id": "aa90204e-c1e6-44df-b7af-e8855fb80f72",
      "metadata": {
        "id": "aa90204e-c1e6-44df-b7af-e8855fb80f72",
        "outputId": "1503ce78-1257-4398-b5a7-182342880e4c"
      },
      "outputs": [
        {
          "name": "stdout",
          "output_type": "stream",
          "text": [
            "\u001b[1m\u001b[32mSuccess: no issues found in 1 source file\u001b[m\n"
          ]
        }
      ],
      "source": [
        "!mypy check_mypy.py"
      ]
    },
    {
      "cell_type": "code",
      "execution_count": null,
      "id": "eccc2388-226c-472a-8cf9-108ada8e4ef3",
      "metadata": {
        "id": "eccc2388-226c-472a-8cf9-108ada8e4ef3"
      },
      "outputs": [],
      "source": [
        "class A:\n",
        "    def __getitem__(self, index):\n",
        "        if index[0].start is None:\n",
        "            print(True\n",
        "        return index"
      ]
    },
    {
      "cell_type": "code",
      "execution_count": null,
      "id": "9cf6fd6d-0c61-42ef-a8dc-d91c59cf2fef",
      "metadata": {
        "id": "9cf6fd6d-0c61-42ef-a8dc-d91c59cf2fef"
      },
      "outputs": [],
      "source": [
        "a = A()\n",
        "index = a[:,:]"
      ]
    },
    {
      "cell_type": "code",
      "execution_count": null,
      "id": "5ebc7ef2-e672-4166-81db-565f6c38d17e",
      "metadata": {
        "id": "5ebc7ef2-e672-4166-81db-565f6c38d17e",
        "outputId": "300a45c7-388d-4c7f-80d1-c1dc41b06969"
      },
      "outputs": [
        {
          "data": {
            "text/plain": [
              "False"
            ]
          },
          "execution_count": 43,
          "metadata": {},
          "output_type": "execute_result"
        }
      ],
      "source": [
        "# index[0].start is None\n",
        "# len(index) == 2\n",
        "# isinstance(index[0], slice)\n",
        "# index == (:, :)\n",
        "# index[0].indices(10) == (0, 10, 1)\n",
        "# isinstance(index, list)"
      ]
    },
    {
      "cell_type": "code",
      "execution_count": null,
      "id": "f1a95f8b-8e48-4c2b-a14b-5ddae192db61",
      "metadata": {
        "id": "f1a95f8b-8e48-4c2b-a14b-5ddae192db61",
        "outputId": "ffc2da9c-6b42-47fd-88a5-e6f4856abcfd"
      },
      "outputs": [
        {
          "name": "stdout",
          "output_type": "stream",
          "text": [
            "slice(stop)\n",
            "slice(start, stop[, step])\n",
            "\n",
            "Create a slice object.  This is used for extended slicing (e.g. a[0:10:2]).\n"
          ]
        }
      ],
      "source": [
        "print(index[0].__doc__)"
      ]
    },
    {
      "cell_type": "code",
      "execution_count": null,
      "id": "c3b3a329-cdbd-4e90-a76f-1f49cf41ea09",
      "metadata": {
        "id": "c3b3a329-cdbd-4e90-a76f-1f49cf41ea09",
        "outputId": "08847532-863f-4896-cdef-677ed88621b9"
      },
      "outputs": [
        {
          "ename": "ModuleNotFoundError",
          "evalue": "No module named 'asdfa'",
          "output_type": "error",
          "traceback": [
            "\u001b[0;31m---------------------------------------------------------------------------\u001b[0m",
            "\u001b[0;31mModuleNotFoundError\u001b[0m                       Traceback (most recent call last)",
            "\u001b[0;32m/var/folders/nn/q3ykkkvd3cq7mgb36_bq6nr80000gn/T/ipykernel_62376/1653208231.py\u001b[0m in \u001b[0;36m<module>\u001b[0;34m\u001b[0m\n\u001b[0;32m----> 1\u001b[0;31m \u001b[0;32mimport\u001b[0m \u001b[0masdfa\u001b[0m\u001b[0;34m\u001b[0m\u001b[0;34m\u001b[0m\u001b[0m\n\u001b[0m",
            "\u001b[0;31mModuleNotFoundError\u001b[0m: No module named 'asdfa'"
          ]
        }
      ],
      "source": [
        "import asdfa"
      ]
    },
    {
      "cell_type": "code",
      "execution_count": null,
      "id": "9d40a697-53c8-40ad-af45-b0dfafd53017",
      "metadata": {
        "id": "9d40a697-53c8-40ad-af45-b0dfafd53017"
      },
      "outputs": [],
      "source": []
    }
  ],
  "metadata": {
    "kernelspec": {
      "display_name": "Python 3 (ipykernel)",
      "language": "python",
      "name": "python3"
    },
    "language_info": {
      "codemirror_mode": {
        "name": "ipython",
        "version": 3
      },
      "file_extension": ".py",
      "mimetype": "text/x-python",
      "name": "python",
      "nbconvert_exporter": "python",
      "pygments_lexer": "ipython3",
      "version": "3.9.13"
    },
    "colab": {
      "provenance": [],
      "toc_visible": true,
      "include_colab_link": true
    }
  },
  "nbformat": 4,
  "nbformat_minor": 5
}